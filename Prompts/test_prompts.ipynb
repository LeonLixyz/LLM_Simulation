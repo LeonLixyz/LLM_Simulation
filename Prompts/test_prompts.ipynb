{
 "cells": [
  {
   "cell_type": "code",
   "execution_count": 13,
   "metadata": {},
   "outputs": [
    {
     "name": "stdout",
     "output_type": "stream",
     "text": [
      "Below is the persona information:\n",
      "\n",
      "### PERSONA INFORMATION ###\n",
      "{PERSONA}\n",
      "\n",
      "### YOUR TASK ###\n",
      "You will be provided with an opinion-based multiple-choice question along with some context. Your task is to:\n",
      "1. **Adopt the mindset of the above persona**, fully considering their background, economic situation, personal experiences, and potential viewpoints.\n",
      "2. **Select the most fitting answer** to the question that aligns with the persona's perspectives and best serves their interests.\n",
      "\n",
      "### SIMULATION GUIDELINES ###\n",
      "1. **Be Faithful to the Persona:** Ensure your reasoning and answer are consistent with the persona's demographic information and life experiences.\n",
      "2. **Avoid Stereotypes:** Provide a nuanced perspective that reflects the individual's unique circumstances. Do not rely on generalizations or cliches.\n",
      "3. **Focus on Relevant Aspects:** Center your reasoning on the economic and political factors that would influence the persona's opinion on the topic.\n",
      "4. **Be Objective:** Avoid injecting personal bias or overly politically correct views that may not align with the persona's standpoint.\n",
      "\n",
      "### QUESTION ###\n",
      "{QUESTION}\n",
      "\n",
      "### RESPONSE FORMAT ###\n",
      "Reasoning: [A brief explanation (2-3 sentences) of how the persona's background influences their opinion on the topic.]\n",
      "\n",
      "Answer: [The most fitting answer choice, either A, B, C, or D, based on the reasoning provided.]\n",
      "\n",
      "### YOUR RESPONSE ###\n",
      "Please provide your response following the format above. **You must strictly adhere to the specified format. Do not include any additional information or commentary.**\n",
      "Your response begins here:\n",
      "\n",
      "\n"
     ]
    }
   ],
   "source": [
    "import json\n",
    "\n",
    "with open('/user/al4263/Simulate/Prompts/Pew_Research/opinion_simulation/reason_user_instruction.json', 'r') as f:\n",
    "    instructions = json.load(f)[\"instructions\"]\n",
    "\n",
    "\n",
    "print(instructions)"
   ]
  },
  {
   "cell_type": "code",
   "execution_count": 7,
   "metadata": {},
   "outputs": [
    {
     "name": "stdout",
     "output_type": "stream",
     "text": [
      "### INSTRUCTIONS###\n",
      "1. Verify the correctness and reasonableness of the provided metadata. Check for any inconsistencies or impossible combinations (e.g., someone unemployed making $200k a year, or someone borned in China but speaks Spanish only). If you find any issues, make adjustions accordingly. However, you should try to follow the original metadata as close as possible.\n",
      "2. Create a detailed, concrete persona that is fully consistent with ALL features in the given metadata.\n",
      "3. Elaborate on all metadata points, providing specific details that flesh out the persona while remaining true to the given information.\n",
      "4. For any ranges or categories provided in the metadata, select and specify exact values or details within those ranges/categories.\n",
      "5. For any null, missing values, incorrect values in the metadata, make a reasonable assumption based on other provided information.\n",
      "6. Focus on characteristics that could influence economic and political views, including but not limited to:\n",
      "   - Precise economic situation (exact income, specific job title and sector, details of homeownership or renting situation)\n",
      "   - Detailed educational background and its impact on career trajectory\n",
      "   - Specific family structure and responsibilities\n",
      "   - Exact geographic location (city/town name, neighborhood type) and its economic implications\n",
      "   - Concrete economic concerns or priorities based on the persona's situation\n",
      "   - Personal experiences, values, and beliefs that shape their political views\n",
      "7. Ensure diversity in political perspectives across different personas. Assign political opinions logically derived from their backgrounds, resulting in a range of support for various candidates or policies.\n",
      "8. Avoid creating a narrative, but provide enough specific details to make the persona feel real and three-dimensional.\n",
      "9. Maintain diversity by acknowledging various experiences within the demographic group, but commit to specific details for this individual persona.\n",
      "\n",
      "### RESPONSE FORMAT ###\n",
      "Persona: [A detailed, objective description of a specific individual, focusing on factors relevant to economic and political views. Ensure all details are consistent with and elaborate upon the provided metadata.]\n",
      "\n",
      "### ADDITIONAL INFORMATION ###\n",
      "Remember, this persona will be used for simulation purposes on political and econmoic problems, such as election polls, so it needs to be realistic, specific, and fully fleshed out while adhering strictly to the given demographic information.\n",
      "\n",
      "### PERSONA METADATA ###\n",
      "{METADATA}\n",
      "\n",
      "### PERSONA GENERATION ###\n",
      "\n"
     ]
    }
   ],
   "source": [
    "import json\n",
    "\n",
    "with open('/user/al4263/Simulate/Prompts/Pew_Research/persona_generation/factual_persona/instructions.json', 'r') as f:\n",
    "    instructions = json.load(f)\n",
    "\n",
    "print(instructions['instructions'])"
   ]
  }
 ],
 "metadata": {
  "kernelspec": {
   "display_name": "llm_env",
   "language": "python",
   "name": "python3"
  },
  "language_info": {
   "codemirror_mode": {
    "name": "ipython",
    "version": 3
   },
   "file_extension": ".py",
   "mimetype": "text/x-python",
   "name": "python",
   "nbconvert_exporter": "python",
   "pygments_lexer": "ipython3",
   "version": "3.12.4"
  }
 },
 "nbformat": 4,
 "nbformat_minor": 2
}
