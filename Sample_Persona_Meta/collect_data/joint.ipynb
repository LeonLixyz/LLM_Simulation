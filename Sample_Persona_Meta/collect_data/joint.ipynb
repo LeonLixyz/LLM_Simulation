{
 "cells": [
  {
   "cell_type": "code",
   "execution_count": 1,
   "metadata": {},
   "outputs": [],
   "source": [
    "import requests\n",
    "import pandas as pd\n",
    "\n",
    "# Your Census API key\n",
    "API_KEY = \"bc59ed2032734716cd1e00a6b7b8e0921df40c24\""
   ]
  },
  {
   "cell_type": "code",
   "execution_count": 2,
   "metadata": {},
   "outputs": [],
   "source": [
    "import requests\n",
    "from collections import defaultdict\n",
    "\n",
    "url = \"https://api.census.gov/data/2023/acs/acs1\"\n",
    "\n",
    "# Define variables for different races and age groups\n",
    "age_groups = ['07', '08', '09', '10', '11', '12', '13', '14', '15', '16']\n",
    "age_group_names = {\n",
    "    '07': '18-19', '08': '20-24', '09': '25-29', '10': '30-34',\n",
    "    '11': '35-44', '12': '45-54', '13': '55-64', '14': '65-74',\n",
    "    '15': '75-84', '16': '85+'\n",
    "}\n",
    "\n",
    "races = {\n",
    "    'White': 'H', 'Black': 'B', 'American Indian and Alaska Native': 'C',\n",
    "    'Asian': 'D', 'Native Hawaiian and Pacific Islander': 'E',\n",
    "    'Two or more races': 'G', 'Hispanic or Latino': 'I'\n",
    "}\n",
    "\n",
    "# Generate variables for API query\n",
    "variables = {}\n",
    "for race, code in races.items():\n",
    "    variables[race] = []\n",
    "    for age in age_groups:\n",
    "        variables[race].extend([f'B01001{code}_{int(age):03d}E', f'B01001{code}_{int(age)+15:03d}E'])\n",
    "\n",
    "# Store the results in this dictionary\n",
    "population_data = defaultdict(lambda: defaultdict(dict))\n",
    "\n",
    "# Query the Census API for each race and store the results\n",
    "for race, age_vars in variables.items():\n",
    "    # Define the API parameters\n",
    "    params = {\n",
    "        \"get\": \",\".join(age_vars) + \",NAME\",  # Query for the age variables and state names\n",
    "        \"for\": \"state:*\",  # Get data for all states\n",
    "        \"key\": API_KEY\n",
    "    }\n",
    "    \n",
    "    # Make the API request\n",
    "    response = requests.get(url, params=params)\n",
    "    \n",
    "    # Check if the request was successful\n",
    "    if response.status_code == 200:\n",
    "        try:\n",
    "            data = response.json()\n",
    "            columns = data[0]  # The header row\n",
    "            rows = data[1:]  # The data rows\n",
    "            \n",
    "            # Process the results\n",
    "            for row in rows:\n",
    "                state_name = row[-2]  # State name\n",
    "                for i, var in enumerate(age_vars):\n",
    "                    age_code = age_groups[i // 2]\n",
    "                    age_group = age_group_names[age_code]\n",
    "                    gender = \"male\" if i % 2 == 0 else \"female\"\n",
    "                    num_people = int(row[i]) if row[i] else 0\n",
    "                    \n",
    "                    key = (age_group, gender, race)\n",
    "                    population_data[state_name][key] = num_people\n",
    "        except requests.JSONDecodeError:\n",
    "            print(f\"Error decoding JSON for {race} variables: {age_vars}\")\n",
    "            print(\"Response text:\", response.text)  # Print the raw response for debugging\n",
    "    else:\n",
    "        print(f\"Error: {response.status_code} for race {race} variables {age_vars}\")\n",
    "        print(\"Response text:\", response.text)  # Print the raw response for debugging\n"
   ]
  },
  {
   "cell_type": "code",
   "execution_count": 3,
   "metadata": {},
   "outputs": [
    {
     "name": "stderr",
     "output_type": "stream",
     "text": [
      "Processing states:   2%|▏         | 1/52 [00:02<02:25,  2.85s/it]"
     ]
    },
    {
     "name": "stdout",
     "output_type": "stream",
     "text": [
      "Generated and saved 1000 personas for state Alabama (AL)\n"
     ]
    },
    {
     "name": "stderr",
     "output_type": "stream",
     "text": [
      "Processing states:   4%|▍         | 2/52 [00:05<02:06,  2.54s/it]"
     ]
    },
    {
     "name": "stdout",
     "output_type": "stream",
     "text": [
      "Generated and saved 1000 personas for state Alaska (AK)\n"
     ]
    },
    {
     "name": "stderr",
     "output_type": "stream",
     "text": [
      "Processing states:   6%|▌         | 3/52 [00:07<02:02,  2.50s/it]"
     ]
    },
    {
     "name": "stdout",
     "output_type": "stream",
     "text": [
      "Generated and saved 1000 personas for state Arizona (AZ)\n"
     ]
    },
    {
     "name": "stderr",
     "output_type": "stream",
     "text": [
      "Processing states:   8%|▊         | 4/52 [00:10<02:00,  2.51s/it]"
     ]
    },
    {
     "name": "stdout",
     "output_type": "stream",
     "text": [
      "Generated and saved 1000 personas for state Arkansas (AR)\n"
     ]
    },
    {
     "name": "stderr",
     "output_type": "stream",
     "text": [
      "Processing states:  10%|▉         | 5/52 [00:12<01:57,  2.50s/it]"
     ]
    },
    {
     "name": "stdout",
     "output_type": "stream",
     "text": [
      "Generated and saved 1000 personas for state California (CA)\n"
     ]
    },
    {
     "name": "stderr",
     "output_type": "stream",
     "text": [
      "Processing states:  12%|█▏        | 6/52 [00:15<01:54,  2.49s/it]"
     ]
    },
    {
     "name": "stdout",
     "output_type": "stream",
     "text": [
      "Generated and saved 1000 personas for state Colorado (CO)\n"
     ]
    },
    {
     "name": "stderr",
     "output_type": "stream",
     "text": [
      "Processing states:  13%|█▎        | 7/52 [00:17<01:53,  2.53s/it]"
     ]
    },
    {
     "name": "stdout",
     "output_type": "stream",
     "text": [
      "Generated and saved 1000 personas for state Connecticut (CT)\n"
     ]
    },
    {
     "name": "stderr",
     "output_type": "stream",
     "text": [
      "Processing states:  15%|█▌        | 8/52 [00:20<01:51,  2.54s/it]"
     ]
    },
    {
     "name": "stdout",
     "output_type": "stream",
     "text": [
      "Generated and saved 1000 personas for state Delaware (DE)\n",
      "Warning: 'District of Columbia' is not a valid US state name. Skipping.\n"
     ]
    },
    {
     "name": "stderr",
     "output_type": "stream",
     "text": [
      "Processing states:  19%|█▉        | 10/52 [00:22<01:19,  1.89s/it]"
     ]
    },
    {
     "name": "stdout",
     "output_type": "stream",
     "text": [
      "Generated and saved 1000 personas for state Florida (FL)\n"
     ]
    },
    {
     "name": "stderr",
     "output_type": "stream",
     "text": [
      "Processing states:  21%|██        | 11/52 [00:25<01:23,  2.03s/it]"
     ]
    },
    {
     "name": "stdout",
     "output_type": "stream",
     "text": [
      "Generated and saved 1000 personas for state Georgia (GA)\n"
     ]
    },
    {
     "name": "stderr",
     "output_type": "stream",
     "text": [
      "Processing states:  23%|██▎       | 12/52 [00:27<01:25,  2.15s/it]"
     ]
    },
    {
     "name": "stdout",
     "output_type": "stream",
     "text": [
      "Generated and saved 1000 personas for state Hawaii (HI)\n"
     ]
    },
    {
     "name": "stderr",
     "output_type": "stream",
     "text": [
      "Processing states:  25%|██▌       | 13/52 [00:30<01:27,  2.26s/it]"
     ]
    },
    {
     "name": "stdout",
     "output_type": "stream",
     "text": [
      "Generated and saved 1000 personas for state Idaho (ID)\n"
     ]
    },
    {
     "name": "stderr",
     "output_type": "stream",
     "text": [
      "Processing states:  27%|██▋       | 14/52 [00:32<01:28,  2.32s/it]"
     ]
    },
    {
     "name": "stdout",
     "output_type": "stream",
     "text": [
      "Generated and saved 1000 personas for state Illinois (IL)\n"
     ]
    },
    {
     "name": "stderr",
     "output_type": "stream",
     "text": [
      "Processing states:  29%|██▉       | 15/52 [00:34<01:26,  2.34s/it]"
     ]
    },
    {
     "name": "stdout",
     "output_type": "stream",
     "text": [
      "Generated and saved 1000 personas for state Indiana (IN)\n"
     ]
    },
    {
     "name": "stderr",
     "output_type": "stream",
     "text": [
      "Processing states:  31%|███       | 16/52 [00:37<01:25,  2.37s/it]"
     ]
    },
    {
     "name": "stdout",
     "output_type": "stream",
     "text": [
      "Generated and saved 1000 personas for state Iowa (IA)\n"
     ]
    },
    {
     "name": "stderr",
     "output_type": "stream",
     "text": [
      "Processing states:  33%|███▎      | 17/52 [00:39<01:22,  2.36s/it]"
     ]
    },
    {
     "name": "stdout",
     "output_type": "stream",
     "text": [
      "Generated and saved 1000 personas for state Kansas (KS)\n"
     ]
    },
    {
     "name": "stderr",
     "output_type": "stream",
     "text": [
      "Processing states:  35%|███▍      | 18/52 [00:41<01:19,  2.33s/it]"
     ]
    },
    {
     "name": "stdout",
     "output_type": "stream",
     "text": [
      "Generated and saved 1000 personas for state Kentucky (KY)\n"
     ]
    },
    {
     "name": "stderr",
     "output_type": "stream",
     "text": [
      "Processing states:  37%|███▋      | 19/52 [00:44<01:16,  2.33s/it]"
     ]
    },
    {
     "name": "stdout",
     "output_type": "stream",
     "text": [
      "Generated and saved 1000 personas for state Louisiana (LA)\n"
     ]
    },
    {
     "name": "stderr",
     "output_type": "stream",
     "text": [
      "Processing states:  38%|███▊      | 20/52 [00:46<01:14,  2.33s/it]"
     ]
    },
    {
     "name": "stdout",
     "output_type": "stream",
     "text": [
      "Generated and saved 1000 personas for state Maine (ME)\n"
     ]
    },
    {
     "name": "stderr",
     "output_type": "stream",
     "text": [
      "Processing states:  40%|████      | 21/52 [00:48<01:12,  2.33s/it]"
     ]
    },
    {
     "name": "stdout",
     "output_type": "stream",
     "text": [
      "Generated and saved 1000 personas for state Maryland (MD)\n"
     ]
    },
    {
     "name": "stderr",
     "output_type": "stream",
     "text": [
      "Processing states:  42%|████▏     | 22/52 [00:51<01:09,  2.31s/it]"
     ]
    },
    {
     "name": "stdout",
     "output_type": "stream",
     "text": [
      "Generated and saved 1000 personas for state Massachusetts (MA)\n"
     ]
    },
    {
     "name": "stderr",
     "output_type": "stream",
     "text": [
      "Processing states:  44%|████▍     | 23/52 [00:53<01:06,  2.28s/it]"
     ]
    },
    {
     "name": "stdout",
     "output_type": "stream",
     "text": [
      "Generated and saved 1000 personas for state Michigan (MI)\n"
     ]
    },
    {
     "name": "stderr",
     "output_type": "stream",
     "text": [
      "Processing states:  46%|████▌     | 24/52 [00:55<01:03,  2.28s/it]"
     ]
    },
    {
     "name": "stdout",
     "output_type": "stream",
     "text": [
      "Generated and saved 1000 personas for state Minnesota (MN)\n"
     ]
    },
    {
     "name": "stderr",
     "output_type": "stream",
     "text": [
      "Processing states:  48%|████▊     | 25/52 [00:57<01:01,  2.26s/it]"
     ]
    },
    {
     "name": "stdout",
     "output_type": "stream",
     "text": [
      "Generated and saved 1000 personas for state Mississippi (MS)\n"
     ]
    },
    {
     "name": "stderr",
     "output_type": "stream",
     "text": [
      "Processing states:  50%|█████     | 26/52 [01:00<00:58,  2.27s/it]"
     ]
    },
    {
     "name": "stdout",
     "output_type": "stream",
     "text": [
      "Generated and saved 1000 personas for state Missouri (MO)\n"
     ]
    },
    {
     "name": "stderr",
     "output_type": "stream",
     "text": [
      "Processing states:  52%|█████▏    | 27/52 [01:02<00:55,  2.23s/it]"
     ]
    },
    {
     "name": "stdout",
     "output_type": "stream",
     "text": [
      "Generated and saved 1000 personas for state Montana (MT)\n"
     ]
    },
    {
     "name": "stderr",
     "output_type": "stream",
     "text": [
      "Processing states:  54%|█████▍    | 28/52 [01:04<00:53,  2.22s/it]"
     ]
    },
    {
     "name": "stdout",
     "output_type": "stream",
     "text": [
      "Generated and saved 1000 personas for state Nebraska (NE)\n"
     ]
    },
    {
     "name": "stderr",
     "output_type": "stream",
     "text": [
      "Processing states:  56%|█████▌    | 29/52 [01:06<00:51,  2.22s/it]"
     ]
    },
    {
     "name": "stdout",
     "output_type": "stream",
     "text": [
      "Generated and saved 1000 personas for state Nevada (NV)\n"
     ]
    },
    {
     "name": "stderr",
     "output_type": "stream",
     "text": [
      "Processing states:  58%|█████▊    | 30/52 [01:09<00:50,  2.28s/it]"
     ]
    },
    {
     "name": "stdout",
     "output_type": "stream",
     "text": [
      "Generated and saved 1000 personas for state New Hampshire (NH)\n"
     ]
    },
    {
     "name": "stderr",
     "output_type": "stream",
     "text": [
      "Processing states:  60%|█████▉    | 31/52 [01:11<00:47,  2.27s/it]"
     ]
    },
    {
     "name": "stdout",
     "output_type": "stream",
     "text": [
      "Generated and saved 1000 personas for state New Jersey (NJ)\n"
     ]
    },
    {
     "name": "stderr",
     "output_type": "stream",
     "text": [
      "Processing states:  62%|██████▏   | 32/52 [01:13<00:45,  2.26s/it]"
     ]
    },
    {
     "name": "stdout",
     "output_type": "stream",
     "text": [
      "Generated and saved 1000 personas for state New Mexico (NM)\n"
     ]
    },
    {
     "name": "stderr",
     "output_type": "stream",
     "text": [
      "Processing states:  63%|██████▎   | 33/52 [01:16<00:43,  2.28s/it]"
     ]
    },
    {
     "name": "stdout",
     "output_type": "stream",
     "text": [
      "Generated and saved 1000 personas for state New York (NY)\n"
     ]
    },
    {
     "name": "stderr",
     "output_type": "stream",
     "text": [
      "Processing states:  65%|██████▌   | 34/52 [01:18<00:40,  2.27s/it]"
     ]
    },
    {
     "name": "stdout",
     "output_type": "stream",
     "text": [
      "Generated and saved 1000 personas for state North Carolina (NC)\n"
     ]
    },
    {
     "name": "stderr",
     "output_type": "stream",
     "text": [
      "Processing states:  67%|██████▋   | 35/52 [01:20<00:38,  2.25s/it]"
     ]
    },
    {
     "name": "stdout",
     "output_type": "stream",
     "text": [
      "Generated and saved 1000 personas for state North Dakota (ND)\n"
     ]
    },
    {
     "name": "stderr",
     "output_type": "stream",
     "text": [
      "Processing states:  69%|██████▉   | 36/52 [01:22<00:36,  2.26s/it]"
     ]
    },
    {
     "name": "stdout",
     "output_type": "stream",
     "text": [
      "Generated and saved 1000 personas for state Ohio (OH)\n"
     ]
    },
    {
     "name": "stderr",
     "output_type": "stream",
     "text": [
      "Processing states:  71%|███████   | 37/52 [01:24<00:33,  2.25s/it]"
     ]
    },
    {
     "name": "stdout",
     "output_type": "stream",
     "text": [
      "Generated and saved 1000 personas for state Oklahoma (OK)\n"
     ]
    },
    {
     "name": "stderr",
     "output_type": "stream",
     "text": [
      "Processing states:  73%|███████▎  | 38/52 [01:27<00:31,  2.24s/it]"
     ]
    },
    {
     "name": "stdout",
     "output_type": "stream",
     "text": [
      "Generated and saved 1000 personas for state Oregon (OR)\n"
     ]
    },
    {
     "name": "stderr",
     "output_type": "stream",
     "text": [
      "Processing states:  75%|███████▌  | 39/52 [01:29<00:29,  2.24s/it]"
     ]
    },
    {
     "name": "stdout",
     "output_type": "stream",
     "text": [
      "Generated and saved 1000 personas for state Pennsylvania (PA)\n"
     ]
    },
    {
     "name": "stderr",
     "output_type": "stream",
     "text": [
      "Processing states:  77%|███████▋  | 40/52 [01:31<00:27,  2.26s/it]"
     ]
    },
    {
     "name": "stdout",
     "output_type": "stream",
     "text": [
      "Generated and saved 1000 personas for state Rhode Island (RI)\n"
     ]
    },
    {
     "name": "stderr",
     "output_type": "stream",
     "text": [
      "Processing states:  79%|███████▉  | 41/52 [01:34<00:24,  2.26s/it]"
     ]
    },
    {
     "name": "stdout",
     "output_type": "stream",
     "text": [
      "Generated and saved 1000 personas for state South Carolina (SC)\n"
     ]
    },
    {
     "name": "stderr",
     "output_type": "stream",
     "text": [
      "Processing states:  81%|████████  | 42/52 [01:36<00:22,  2.28s/it]"
     ]
    },
    {
     "name": "stdout",
     "output_type": "stream",
     "text": [
      "Generated and saved 1000 personas for state South Dakota (SD)\n"
     ]
    },
    {
     "name": "stderr",
     "output_type": "stream",
     "text": [
      "Processing states:  83%|████████▎ | 43/52 [01:38<00:20,  2.28s/it]"
     ]
    },
    {
     "name": "stdout",
     "output_type": "stream",
     "text": [
      "Generated and saved 1000 personas for state Tennessee (TN)\n"
     ]
    },
    {
     "name": "stderr",
     "output_type": "stream",
     "text": [
      "Processing states:  85%|████████▍ | 44/52 [01:41<00:18,  2.34s/it]"
     ]
    },
    {
     "name": "stdout",
     "output_type": "stream",
     "text": [
      "Generated and saved 1000 personas for state Texas (TX)\n"
     ]
    },
    {
     "name": "stderr",
     "output_type": "stream",
     "text": [
      "Processing states:  87%|████████▋ | 45/52 [01:43<00:16,  2.36s/it]"
     ]
    },
    {
     "name": "stdout",
     "output_type": "stream",
     "text": [
      "Generated and saved 1000 personas for state Utah (UT)\n"
     ]
    },
    {
     "name": "stderr",
     "output_type": "stream",
     "text": [
      "Processing states:  88%|████████▊ | 46/52 [01:45<00:14,  2.38s/it]"
     ]
    },
    {
     "name": "stdout",
     "output_type": "stream",
     "text": [
      "Generated and saved 1000 personas for state Vermont (VT)\n"
     ]
    },
    {
     "name": "stderr",
     "output_type": "stream",
     "text": [
      "Processing states:  90%|█████████ | 47/52 [01:48<00:12,  2.42s/it]"
     ]
    },
    {
     "name": "stdout",
     "output_type": "stream",
     "text": [
      "Generated and saved 1000 personas for state Virginia (VA)\n"
     ]
    },
    {
     "name": "stderr",
     "output_type": "stream",
     "text": [
      "Processing states:  92%|█████████▏| 48/52 [01:50<00:09,  2.46s/it]"
     ]
    },
    {
     "name": "stdout",
     "output_type": "stream",
     "text": [
      "Generated and saved 1000 personas for state Washington (WA)\n"
     ]
    },
    {
     "name": "stderr",
     "output_type": "stream",
     "text": [
      "Processing states:  94%|█████████▍| 49/52 [01:53<00:07,  2.55s/it]"
     ]
    },
    {
     "name": "stdout",
     "output_type": "stream",
     "text": [
      "Generated and saved 1000 personas for state West Virginia (WV)\n"
     ]
    },
    {
     "name": "stderr",
     "output_type": "stream",
     "text": [
      "Processing states:  96%|█████████▌| 50/52 [01:56<00:05,  2.53s/it]"
     ]
    },
    {
     "name": "stdout",
     "output_type": "stream",
     "text": [
      "Generated and saved 1000 personas for state Wisconsin (WI)\n"
     ]
    },
    {
     "name": "stderr",
     "output_type": "stream",
     "text": [
      "Processing states:  98%|█████████▊| 51/52 [01:58<00:02,  2.54s/it]"
     ]
    },
    {
     "name": "stdout",
     "output_type": "stream",
     "text": [
      "Generated and saved 1000 personas for state Wyoming (WY)\n"
     ]
    },
    {
     "name": "stderr",
     "output_type": "stream",
     "text": [
      "Processing states: 100%|██████████| 52/52 [02:01<00:00,  2.33s/it]"
     ]
    },
    {
     "name": "stdout",
     "output_type": "stream",
     "text": [
      "Generated and saved 1000 personas for state Puerto Rico (PR)\n"
     ]
    },
    {
     "name": "stderr",
     "output_type": "stream",
     "text": [
      "\n"
     ]
    }
   ],
   "source": [
    "import json\n",
    "import os\n",
    "import torch\n",
    "from collections import defaultdict\n",
    "import us\n",
    "import tqdm\n",
    "\n",
    "def process_state_data(state_name, state_data):\n",
    "    state = us.states.lookup(state_name)\n",
    "    if state is None:\n",
    "        print(f\"Warning: '{state_name}' is not a valid US state name. Skipping.\")\n",
    "        return\n",
    "\n",
    "    state_abbr = state.abbr\n",
    "    \n",
    "    # Convert state_data to a list of tuples and a list of probabilities\n",
    "    items, counts = zip(*state_data.items())\n",
    "    probs = torch.tensor(counts, dtype=torch.float)\n",
    "    probs /= probs.sum()\n",
    "\n",
    "    # Create a Categorical distribution\n",
    "    distribution = torch.distributions.Categorical(probs)\n",
    "\n",
    "    def sample_persona():\n",
    "        index = distribution.sample().item()\n",
    "        age, sex, race = items[index]\n",
    "        return {\n",
    "            \"AGE\": age,\n",
    "            \"SEX\": sex.capitalize(),\n",
    "            \"RACE\": race,\n",
    "            \"STATE\": state_abbr\n",
    "        }\n",
    "\n",
    "    def save_persona(persona, index):\n",
    "        folder_path = f\"./LLM_Simulation/Persona/Persona_Meta_Joint/{state_abbr}/meta_persona\"\n",
    "        os.makedirs(folder_path, exist_ok=True)\n",
    "        file_path = os.path.join(folder_path, f\"persona_{index}.json\")\n",
    "        data = {\"PERSONA\": persona}\n",
    "        with open(file_path, 'w') as f:\n",
    "            json.dump(data, f, indent=2)\n",
    "\n",
    "    num_personas = 1000  # Adjust as needed\n",
    "    for i in range(num_personas):\n",
    "        persona = sample_persona()\n",
    "        save_persona(persona, i)\n",
    "\n",
    "    print(f\"Generated and saved {num_personas} personas for state {state_name} ({state_abbr})\")\n",
    "\n",
    "for state_name, state_data in tqdm.tqdm(population_data.items(), desc=\"Processing states\"):\n",
    "    process_state_data(state_name, state_data)"
   ]
  },
  {
   "cell_type": "code",
   "execution_count": 11,
   "metadata": {},
   "outputs": [
    {
     "name": "stdout",
     "output_type": "stream",
     "text": [
      "Marginal distributions for NY:\n",
      "\n",
      "Sex distribution:\n",
      "Female: 49.80%\n",
      "Male: 50.20%\n",
      "\n",
      "Age group distribution:\n",
      "55-64: 17.20%\n",
      "45-54: 14.60%\n",
      "35-44: 16.80%\n",
      "20-24: 7.00%\n",
      "75-84: 9.60%\n",
      "65-74: 13.20%\n",
      "25-29: 9.60%\n",
      "85+: 2.40%\n",
      "30-34: 8.20%\n",
      "18-19: 1.40%\n",
      "\n",
      "Race distribution:\n",
      "White: 49.80%\n",
      "Hispanic or Latino: 18.80%\n",
      "Black: 10.60%\n",
      "American Indian and Alaska Native: 0.80%\n",
      "Asian: 9.80%\n",
      "Two or more races: 10.20%\n"
     ]
    }
   ],
   "source": [
    "import os\n",
    "import json\n",
    "from collections import defaultdict\n",
    "\n",
    "def verify_marginals(state_abbr):\n",
    "    folder_path = f\"./LLM_Simulation/Persona/Persona_State_Ultimate/meta_persona/{state_abbr}\"\n",
    "    \n",
    "    # Counters for each category\n",
    "    sex_count = defaultdict(int)\n",
    "    age_count = defaultdict(int)\n",
    "    race_count = defaultdict(int)\n",
    "    total_count = 0\n",
    "\n",
    "    # Read all persona files\n",
    "    for filename in os.listdir(folder_path):\n",
    "        if filename.endswith(\".json\"):\n",
    "            with open(os.path.join(folder_path, filename), 'r') as f:\n",
    "                persona = json.load(f)\n",
    "                sex_count[persona['SEX']] += 1\n",
    "                age_count[persona['AGE']] += 1\n",
    "                race_count[persona['RACE']] += 1\n",
    "                total_count += 1\n",
    "\n",
    "    # Calculate and print percentages\n",
    "    print(f\"Marginal distributions for {state_abbr}:\")\n",
    "    print(\"\\nSex distribution:\")\n",
    "    for sex, count in sex_count.items():\n",
    "        percentage = (count / total_count) * 100\n",
    "        print(f\"{sex}: {percentage:.2f}%\")\n",
    "\n",
    "    print(\"\\nAge group distribution:\")\n",
    "    for age, count in age_count.items():\n",
    "        percentage = (count / total_count) * 100\n",
    "        print(f\"{age}: {percentage:.2f}%\")\n",
    "\n",
    "    print(\"\\nRace distribution:\")\n",
    "    for race, count in race_count.items():\n",
    "        percentage = (count / total_count) * 100\n",
    "        print(f\"{race}: {percentage:.2f}%\")\n",
    "\n",
    "# Example usage\n",
    "verify_marginals(\"NY\")"
   ]
  },
  {
   "cell_type": "code",
   "execution_count": 3,
   "metadata": {},
   "outputs": [
    {
     "name": "stdout",
     "output_type": "stream",
     "text": [
      "Duplicate files: ['persona_267.json', 'persona_497.json', 'persona_232.json', 'persona_94.json', 'persona_817.json', 'persona_523.json', 'persona_261.json', 'persona_23.json', 'persona_353.json', 'persona_960.json', 'persona_143.json', 'persona_819.json', 'persona_836.json', 'persona_563.json', 'persona_704.json', 'persona_748.json', 'persona_848.json', 'persona_635.json', 'persona_690.json', 'persona_465.json', 'persona_648.json', 'persona_313.json', 'persona_234.json', 'persona_705.json', 'persona_504.json', 'persona_515.json', 'persona_652.json', 'persona_779.json', 'persona_585.json', 'persona_918.json', 'persona_433.json', 'persona_167.json', 'persona_979.json', 'persona_165.json', 'persona_924.json', 'persona_422.json', 'persona_901.json', 'persona_99.json', 'persona_160.json', 'persona_231.json', 'persona_488.json', 'persona_385.json', 'persona_962.json', 'persona_244.json', 'persona_606.json', 'persona_790.json', 'persona_199.json', 'persona_697.json', 'persona_351.json']\n",
      "Duplicate files: ['persona_965.json', 'persona_491.json', 'persona_640.json', 'persona_557.json', 'persona_760.json', 'persona_355.json']\n",
      "Duplicate files: ['persona_846.json', 'persona_427.json']\n",
      "Duplicate files: ['persona_870.json', 'persona_340.json']\n",
      "Duplicate files: ['persona_720.json', 'persona_27.json', 'persona_655.json', 'persona_702.json', 'persona_123.json', 'persona_102.json', 'persona_151.json', 'persona_233.json', 'persona_111.json', 'persona_927.json', 'persona_743.json', 'persona_306.json', 'persona_241.json', 'persona_63.json', 'persona_845.json', 'persona_305.json']\n",
      "Duplicate files: ['persona_202.json', 'persona_178.json', 'persona_26.json', 'persona_278.json', 'persona_909.json', 'persona_98.json', 'persona_674.json', 'persona_899.json', 'persona_651.json', 'persona_659.json', 'persona_820.json', 'persona_890.json', 'persona_943.json', 'persona_791.json', 'persona_747.json', 'persona_189.json']\n",
      "Duplicate files: ['persona_911.json', 'persona_626.json', 'persona_715.json', 'persona_948.json', 'persona_619.json', 'persona_293.json', 'persona_153.json']\n",
      "Duplicate files: ['persona_298.json', 'persona_162.json', 'persona_718.json', 'persona_905.json', 'persona_688.json', 'persona_22.json', 'persona_781.json', 'persona_484.json', 'persona_853.json', 'persona_365.json', 'persona_608.json', 'persona_935.json', 'persona_310.json', 'persona_512.json']\n",
      "Duplicate files: ['persona_156.json', 'persona_996.json', 'persona_929.json', 'persona_880.json', 'persona_994.json', 'persona_72.json', 'persona_939.json', 'persona_299.json', 'persona_778.json', 'persona_113.json']\n",
      "Duplicate files: ['persona_193.json', 'persona_997.json', 'persona_667.json', 'persona_891.json', 'persona_987.json', 'persona_456.json', 'persona_575.json', 'persona_627.json']\n",
      "Duplicate files: ['persona_329.json', 'persona_118.json', 'persona_858.json', 'persona_972.json', 'persona_451.json', 'persona_403.json', 'persona_721.json', 'persona_976.json', 'persona_735.json', 'persona_887.json', 'persona_378.json', 'persona_440.json', 'persona_311.json', 'persona_188.json', 'persona_902.json', 'persona_0.json', 'persona_95.json', 'persona_96.json', 'persona_83.json', 'persona_560.json', 'persona_580.json', 'persona_741.json', 'persona_695.json', 'persona_786.json', 'persona_745.json', 'persona_654.json', 'persona_62.json', 'persona_840.json', 'persona_124.json', 'persona_174.json', 'persona_645.json', 'persona_307.json', 'persona_51.json', 'persona_869.json', 'persona_531.json', 'persona_961.json', 'persona_339.json', 'persona_190.json', 'persona_956.json', 'persona_352.json', 'persona_337.json', 'persona_117.json', 'persona_107.json', 'persona_755.json']\n",
      "Duplicate files: ['persona_855.json', 'persona_238.json', 'persona_76.json', 'persona_363.json', 'persona_406.json', 'persona_759.json', 'persona_494.json', 'persona_133.json', 'persona_426.json', 'persona_599.json', 'persona_362.json']\n",
      "Duplicate files: ['persona_664.json', 'persona_4.json', 'persona_25.json', 'persona_321.json', 'persona_818.json', 'persona_722.json', 'persona_982.json', 'persona_614.json', 'persona_950.json', 'persona_387.json', 'persona_17.json', 'persona_176.json', 'persona_399.json', 'persona_395.json', 'persona_396.json']\n",
      "Duplicate files: ['persona_283.json', 'persona_730.json', 'persona_467.json', 'persona_815.json', 'persona_981.json', 'persona_392.json', 'persona_912.json', 'persona_812.json', 'persona_372.json', 'persona_459.json', 'persona_682.json', 'persona_284.json', 'persona_492.json']\n",
      "Duplicate files: ['persona_61.json', 'persona_824.json', 'persona_341.json', 'persona_738.json', 'persona_813.json', 'persona_8.json', 'persona_93.json', 'persona_400.json', 'persona_914.json', 'persona_412.json', 'persona_736.json', 'persona_213.json', 'persona_877.json', 'persona_428.json']\n",
      "Duplicate files: ['persona_539.json', 'persona_297.json', 'persona_775.json', 'persona_714.json', 'persona_402.json']\n",
      "Duplicate files: ['persona_613.json', 'persona_968.json', 'persona_328.json', 'persona_624.json', 'persona_225.json', 'persona_615.json', 'persona_643.json', 'persona_315.json', 'persona_253.json', 'persona_742.json', 'persona_685.json', 'persona_874.json', 'persona_621.json', 'persona_446.json', 'persona_7.json', 'persona_68.json', 'persona_675.json', 'persona_179.json', 'persona_852.json', 'persona_665.json', 'persona_60.json', 'persona_481.json', 'persona_21.json', 'persona_660.json', 'persona_394.json', 'persona_10.json', 'persona_834.json', 'persona_519.json', 'persona_928.json', 'persona_127.json', 'persona_441.json', 'persona_983.json', 'persona_301.json', 'persona_577.json', 'persona_48.json', 'persona_964.json', 'persona_302.json', 'persona_184.json', 'persona_237.json']\n",
      "Duplicate files: ['persona_168.json', 'persona_217.json', 'persona_930.json', 'persona_195.json', 'persona_39.json', 'persona_381.json', 'persona_850.json', 'persona_596.json']\n",
      "Duplicate files: ['persona_944.json', 'persona_419.json', 'persona_861.json']\n",
      "Duplicate files: ['persona_215.json', 'persona_288.json', 'persona_589.json', 'persona_913.json', 'persona_684.json', 'persona_969.json', 'persona_70.json', 'persona_291.json', 'persona_499.json', 'persona_971.json', 'persona_81.json']\n",
      "Duplicate files: ['persona_873.json', 'persona_830.json', 'persona_2.json', 'persona_716.json', 'persona_632.json', 'persona_97.json', 'persona_733.json', 'persona_854.json', 'persona_458.json', 'persona_900.json', 'persona_865.json', 'persona_64.json', 'persona_429.json', 'persona_698.json', 'persona_49.json', 'persona_249.json', 'persona_292.json', 'persona_183.json', 'persona_424.json', 'persona_525.json', 'persona_169.json', 'persona_631.json', 'persona_116.json', 'persona_338.json', 'persona_325.json', 'persona_801.json', 'persona_668.json', 'persona_636.json', 'persona_517.json', 'persona_141.json', 'persona_33.json', 'persona_287.json', 'persona_132.json', 'persona_680.json', 'persona_410.json', 'persona_789.json', 'persona_732.json', 'persona_587.json', 'persona_511.json', 'persona_857.json']\n",
      "Duplicate files: ['persona_669.json', 'persona_831.json', 'persona_867.json', 'persona_582.json', 'persona_777.json', 'persona_602.json', 'persona_700.json', 'persona_453.json', 'persona_595.json']\n",
      "Duplicate files: ['persona_270.json', 'persona_186.json', 'persona_192.json', 'persona_281.json']\n",
      "Duplicate files: ['persona_229.json', 'persona_670.json', 'persona_120.json', 'persona_191.json', 'persona_200.json', 'persona_895.json', 'persona_771.json', 'persona_677.json', 'persona_534.json', 'persona_147.json', 'persona_569.json']\n",
      "Duplicate files: ['persona_802.json', 'persona_637.json', 'persona_324.json', 'persona_3.json', 'persona_443.json', 'persona_978.json', 'persona_737.json', 'persona_47.json', 'persona_370.json', 'persona_182.json']\n",
      "Duplicate files: ['persona_687.json', 'persona_42.json', 'persona_847.json', 'persona_787.json', 'persona_163.json', 'persona_527.json', 'persona_717.json', 'persona_115.json', 'persona_108.json']\n",
      "Duplicate files: ['persona_9.json', 'persona_439.json', 'persona_977.json', 'persona_425.json', 'persona_266.json', 'persona_808.json', 'persona_16.json', 'persona_464.json', 'persona_438.json', 'persona_841.json', 'persona_805.json', 'persona_208.json', 'persona_920.json', 'persona_128.json', 'persona_173.json', 'persona_508.json', 'persona_827.json', 'persona_159.json', 'persona_226.json']\n",
      "Duplicate files: ['persona_251.json', 'persona_466.json', 'persona_187.json', 'persona_212.json', 'persona_521.json', 'persona_945.json', 'persona_480.json', 'persona_6.json', 'persona_923.json', 'persona_216.json', 'persona_726.json', 'persona_67.json', 'persona_11.json']\n",
      "Duplicate files: ['persona_959.json', 'persona_445.json', 'persona_254.json', 'persona_952.json', 'persona_252.json', 'persona_753.json', 'persona_391.json', 'persona_476.json', 'persona_762.json']\n",
      "Duplicate files: ['persona_13.json', 'persona_489.json', 'persona_564.json', 'persona_992.json', 'persona_995.json', 'persona_724.json', 'persona_103.json', 'persona_980.json', 'persona_468.json', 'persona_633.json', 'persona_510.json', 'persona_816.json', 'persona_565.json', 'persona_520.json', 'persona_784.json']\n",
      "Duplicate files: ['persona_201.json', 'persona_71.json', 'persona_45.json', 'persona_543.json', 'persona_906.json', 'persona_807.json', 'persona_303.json', 'persona_607.json', 'persona_957.json', 'persona_105.json', 'persona_436.json', 'persona_998.json', 'persona_767.json', 'persona_335.json', 'persona_343.json', 'persona_482.json', 'persona_864.json', 'persona_260.json', 'persona_450.json', 'persona_203.json', 'persona_29.json', 'persona_837.json', 'persona_532.json', 'persona_576.json', 'persona_312.json', 'persona_513.json', 'persona_256.json', 'persona_239.json', 'persona_975.json', 'persona_594.json', 'persona_528.json', 'persona_490.json', 'persona_114.json', 'persona_548.json', 'persona_756.json', 'persona_646.json', 'persona_921.json', 'persona_245.json', 'persona_434.json', 'persona_649.json', 'persona_656.json', 'persona_390.json', 'persona_41.json', 'persona_999.json', 'persona_88.json', 'persona_757.json', 'persona_749.json', 'persona_373.json', 'persona_783.json', 'persona_657.json', 'persona_77.json', 'persona_65.json', 'persona_723.json', 'persona_348.json', 'persona_469.json', 'persona_954.json', 'persona_567.json', 'persona_915.json', 'persona_910.json', 'persona_545.json', 'persona_552.json']\n",
      "Duplicate files: ['persona_326.json', 'persona_158.json', 'persona_15.json', 'persona_354.json']\n",
      "Duplicate files: ['persona_642.json', 'persona_838.json', 'persona_610.json', 'persona_78.json', 'persona_119.json', 'persona_774.json', 'persona_547.json', 'persona_106.json', 'persona_524.json']\n",
      "Duplicate files: ['persona_676.json', 'persona_932.json', 'persona_851.json', 'persona_951.json', 'persona_526.json', 'persona_413.json', 'persona_641.json', 'persona_892.json', 'persona_863.json', 'persona_356.json', 'persona_144.json', 'persona_273.json', 'persona_487.json', 'persona_69.json', 'persona_843.json', 'persona_349.json', 'persona_404.json', 'persona_804.json', 'persona_620.json', 'persona_612.json']\n",
      "Duplicate files: ['persona_694.json', 'persona_925.json', 'persona_471.json', 'persona_609.json', 'persona_692.json', 'persona_460.json', 'persona_52.json', 'persona_768.json', 'persona_529.json', 'persona_514.json', 'persona_507.json']\n",
      "Duplicate files: ['persona_707.json', 'persona_75.json', 'persona_104.json', 'persona_384.json', 'persona_551.json', 'persona_832.json', 'persona_247.json', 'persona_794.json', 'persona_903.json', 'persona_904.json', 'persona_323.json']\n",
      "Duplicate files: ['persona_74.json', 'persona_500.json', 'persona_430.json', 'persona_603.json', 'persona_691.json', 'persona_810.json', 'persona_477.json', 'persona_209.json', 'persona_618.json', 'persona_916.json', 'persona_336.json', 'persona_605.json', 'persona_583.json', 'persona_549.json', 'persona_729.json', 'persona_432.json', 'persona_110.json', 'persona_872.json', 'persona_839.json', 'persona_875.json', 'persona_280.json', 'persona_486.json', 'persona_746.json', 'persona_279.json', 'persona_842.json', 'persona_1.json', 'persona_37.json', 'persona_269.json', 'persona_361.json', 'persona_285.json', 'persona_650.json', 'persona_871.json', 'persona_57.json', 'persona_825.json', 'persona_360.json', 'persona_826.json', 'persona_967.json', 'persona_309.json', 'persona_991.json', 'persona_934.json', 'persona_87.json', 'persona_308.json', 'persona_122.json', 'persona_275.json', 'persona_811.json', 'persona_157.json', 'persona_984.json', 'persona_50.json', 'persona_286.json']\n",
      "Duplicate files: ['persona_30.json', 'persona_860.json', 'persona_683.json', 'persona_24.json', 'persona_856.json', 'persona_73.json', 'persona_376.json']\n",
      "Duplicate files: ['persona_591.json', 'persona_628.json', 'persona_138.json', 'persona_180.json', 'persona_483.json', 'persona_240.json', 'persona_32.json']\n",
      "Duplicate files: ['persona_712.json', 'persona_658.json', 'persona_397.json', 'persona_461.json', 'persona_898.json', 'persona_161.json', 'persona_332.json', 'persona_366.json', 'persona_314.json', 'persona_917.json', 'persona_214.json', 'persona_228.json', 'persona_638.json', 'persona_799.json', 'persona_788.json', 'persona_407.json', 'persona_862.json', 'persona_493.json', 'persona_678.json', 'persona_137.json', 'persona_263.json', 'persona_130.json', 'persona_719.json', 'persona_573.json', 'persona_274.json', 'persona_364.json', 'persona_250.json', 'persona_598.json', 'persona_518.json', 'persona_739.json', 'persona_672.json', 'persona_894.json', 'persona_884.json', 'persona_859.json', 'persona_666.json', 'persona_503.json', 'persona_639.json', 'persona_731.json', 'persona_155.json', 'persona_516.json']\n",
      "Duplicate files: ['persona_296.json', 'persona_31.json', 'persona_126.json', 'persona_822.json', 'persona_772.json', 'persona_796.json', 'persona_40.json', 'persona_681.json', 'persona_990.json', 'persona_383.json', 'persona_320.json', 'persona_662.json']\n",
      "Duplicate files: ['persona_271.json', 'persona_634.json', 'persona_166.json', 'persona_538.json', 'persona_568.json', 'persona_653.json']\n",
      "Duplicate files: ['persona_34.json', 'persona_537.json']\n",
      "Duplicate files: ['persona_210.json', 'persona_663.json', 'persona_973.json', 'persona_82.json', 'persona_584.json', 'persona_689.json', 'persona_963.json', 'persona_696.json', 'persona_601.json', 'persona_43.json', 'persona_54.json', 'persona_185.json', 'persona_711.json', 'persona_359.json', 'persona_375.json', 'persona_46.json']\n",
      "Duplicate files: ['persona_578.json', 'persona_148.json', 'persona_592.json', 'persona_374.json', 'persona_581.json', 'persona_570.json', 'persona_550.json', 'persona_879.json', 'persona_44.json', 'persona_300.json', 'persona_782.json', 'persona_949.json', 'persona_357.json', 'persona_937.json', 'persona_331.json', 'persona_470.json']\n",
      "Duplicate files: ['persona_881.json', 'persona_20.json', 'persona_177.json', 'persona_793.json', 'persona_835.json']\n",
      "Duplicate files: ['persona_135.json', 'persona_758.json', 'persona_703.json', 'persona_710.json', 'persona_223.json', 'persona_393.json', 'persona_14.json', 'persona_926.json', 'persona_506.json', 'persona_752.json', 'persona_457.json', 'persona_236.json', 'persona_415.json', 'persona_345.json', 'persona_673.json', 'persona_740.json', 'persona_152.json', 'persona_318.json', 'persona_276.json', 'persona_346.json', 'persona_814.json', 'persona_761.json', 'persona_522.json', 'persona_751.json', 'persona_485.json', 'persona_265.json', 'persona_701.json', 'persona_194.json', 'persona_227.json', 'persona_462.json', 'persona_257.json', 'persona_993.json', 'persona_554.json', 'persona_571.json', 'persona_79.json', 'persona_196.json', 'persona_495.json', 'persona_797.json', 'persona_946.json', 'persona_780.json', 'persona_586.json']\n",
      "Duplicate files: ['persona_555.json', 'persona_408.json', 'persona_713.json', 'persona_447.json', 'persona_416.json', 'persona_333.json', 'persona_431.json']\n",
      "Duplicate files: ['persona_262.json', 'persona_204.json', 'persona_131.json', 'persona_647.json', 'persona_230.json', 'persona_435.json', 'persona_295.json', 'persona_533.json', 'persona_806.json', 'persona_809.json', 'persona_420.json', 'persona_473.json']\n",
      "Duplicate files: ['persona_36.json', 'persona_125.json', 'persona_164.json', 'persona_317.json']\n",
      "Duplicate files: ['persona_763.json', 'persona_84.json']\n",
      "Duplicate files: ['persona_442.json', 'persona_941.json', 'persona_844.json']\n",
      "Duplicate files: ['persona_368.json', 'persona_970.json', 'persona_145.json']\n",
      "Duplicate files: ['persona_377.json', 'persona_235.json', 'persona_219.json']\n",
      "Duplicate files: ['persona_773.json', 'persona_933.json', 'persona_382.json', 'persona_886.json']\n",
      "Duplicate files: ['persona_530.json', 'persona_541.json', 'persona_342.json', 'persona_868.json', 'persona_546.json', 'persona_5.json', 'persona_535.json', 'persona_876.json', 'persona_505.json', 'persona_171.json']\n",
      "Duplicate files: ['persona_708.json', 'persona_222.json', 'persona_322.json']\n",
      "Duplicate files: ['persona_80.json', 'persona_474.json', 'persona_496.json', 'persona_553.json', 'persona_277.json', 'persona_139.json', 'persona_988.json', 'persona_53.json', 'persona_35.json', 'persona_248.json']\n",
      "Duplicate files: ['persona_140.json', 'persona_590.json']\n",
      "Duplicate files: ['persona_350.json', 'persona_559.json', 'persona_765.json', 'persona_679.json', 'persona_59.json', 'persona_221.json', 'persona_379.json', 'persona_224.json', 'persona_769.json', 'persona_243.json']\n",
      "Duplicate files: ['persona_380.json', 'persona_405.json', 'persona_907.json', 'persona_19.json']\n",
      "Duplicate files: ['persona_823.json', 'persona_358.json', 'persona_922.json', 'persona_540.json', 'persona_750.json', 'persona_389.json', 'persona_896.json', 'persona_121.json', 'persona_294.json', 'persona_709.json', 'persona_833.json', 'persona_699.json', 'persona_566.json', 'persona_327.json', 'persona_936.json', 'persona_671.json', 'persona_604.json', 'persona_611.json', 'persona_66.json']\n",
      "Duplicate files: ['persona_888.json', 'persona_181.json', 'persona_644.json', 'persona_198.json', 'persona_304.json', 'persona_388.json']\n",
      "Duplicate files: ['persona_897.json', 'persona_246.json', 'persona_544.json', 'persona_92.json', 'persona_197.json', 'persona_617.json', 'persona_597.json', 'persona_706.json', 'persona_478.json', 'persona_947.json', 'persona_316.json', 'persona_728.json', 'persona_785.json', 'persona_625.json', 'persona_989.json', 'persona_725.json', 'persona_334.json', 'persona_940.json', 'persona_958.json', 'persona_220.json', 'persona_623.json', 'persona_616.json', 'persona_255.json', 'persona_770.json', 'persona_211.json']\n",
      "Duplicate files: ['persona_803.json', 'persona_367.json', 'persona_55.json', 'persona_112.json', 'persona_437.json', 'persona_418.json', 'persona_985.json', 'persona_882.json', 'persona_452.json', 'persona_931.json', 'persona_734.json']\n",
      "Duplicate files: ['persona_414.json', 'persona_744.json', 'persona_149.json', 'persona_289.json', 'persona_866.json', 'persona_89.json', 'persona_502.json', 'persona_371.json']\n",
      "Duplicate files: ['persona_821.json', 'persona_347.json', 'persona_142.json']\n",
      "Duplicate files: ['persona_423.json', 'persona_56.json', 'persona_129.json', 'persona_448.json', 'persona_38.json', 'persona_85.json']\n",
      "Duplicate files: ['persona_12.json', 'persona_795.json', 'persona_766.json', 'persona_754.json', 'persona_170.json']\n",
      "Duplicate files: ['persona_776.json', 'persona_938.json', 'persona_100.json', 'persona_386.json', 'persona_109.json', 'persona_205.json', 'persona_401.json', 'persona_562.json', 'persona_454.json']\n",
      "Duplicate files: ['persona_411.json', 'persona_536.json', 'persona_629.json', 'persona_849.json', 'persona_542.json']\n",
      "Duplicate files: ['persona_91.json', 'persona_449.json', 'persona_479.json', 'persona_883.json', 'persona_90.json']\n",
      "Duplicate files: ['persona_154.json', 'persona_966.json', 'persona_218.json', 'persona_893.json', 'persona_792.json']\n",
      "Duplicate files: ['persona_561.json', 'persona_258.json', 'persona_150.json', 'persona_242.json']\n",
      "Duplicate files: ['persona_593.json', 'persona_319.json', 'persona_986.json', 'persona_501.json', 'persona_600.json', 'persona_764.json']\n",
      "Duplicate files: ['persona_919.json', 'persona_885.json', 'persona_369.json', 'persona_556.json', 'persona_290.json']\n",
      "Duplicate files: ['persona_693.json', 'persona_498.json', 'persona_661.json', 'persona_630.json', 'persona_272.json']\n",
      "Duplicate files: ['persona_134.json', 'persona_444.json', 'persona_588.json', 'persona_86.json', 'persona_509.json', 'persona_574.json']\n",
      "Duplicate files: ['persona_798.json', 'persona_268.json', 'persona_579.json', 'persona_974.json', 'persona_18.json']\n",
      "Duplicate files: ['persona_953.json', 'persona_146.json']\n",
      "Duplicate files: ['persona_421.json', 'persona_409.json', 'persona_259.json']\n",
      "Duplicate files: ['persona_472.json', 'persona_800.json', 'persona_330.json', 'persona_175.json']\n",
      "Duplicate files: ['persona_344.json', 'persona_172.json']\n",
      "Duplicate files: ['persona_264.json', 'persona_889.json']\n",
      "Duplicate files: ['persona_417.json', 'persona_908.json', 'persona_136.json']\n",
      "Duplicate files: ['persona_207.json', 'persona_829.json', 'persona_475.json']\n"
     ]
    }
   ],
   "source": [
    "import os\n",
    "import hashlib\n",
    "import requests\n",
    "from collections import defaultdict\n",
    "def calculate_file_hash(file_path):\n",
    "    \"\"\"Calculate the SHA-256 hash of a file.\"\"\"\n",
    "    hasher = hashlib.sha256()\n",
    "    with open(file_path, 'rb') as f:\n",
    "        buf = f.read()\n",
    "        hasher.update(buf)\n",
    "    return hasher.hexdigest()\n",
    "\n",
    "def find_duplicate_files(folder_path):\n",
    "    \"\"\"Find and print duplicate files in the given folder.\"\"\"\n",
    "    file_hashes = defaultdict(list)\n",
    "    \n",
    "    # Calculate hash for each file and store it in a dictionary\n",
    "    for filename in os.listdir(folder_path):\n",
    "        if filename.endswith(\".json\"):\n",
    "            file_path = os.path.join(folder_path, filename)\n",
    "            file_hash = calculate_file_hash(file_path)\n",
    "            file_hashes[file_hash].append(filename)\n",
    "    \n",
    "    # Print files with the same hash\n",
    "    for file_list in file_hashes.values():\n",
    "        if len(file_list) > 1:\n",
    "            print(f\"Duplicate files: {file_list}\")\n",
    "\n",
    "# Specify the folder path\n",
    "ny_folder_path = \"./LLM_Simulation/Persona/Persona_State_Ultimate/NY/meta_persona\"\n",
    "\n",
    "# Find and print duplicate files\n",
    "find_duplicate_files(ny_folder_path)"
   ]
  },
  {
   "cell_type": "code",
   "execution_count": 3,
   "metadata": {},
   "outputs": [
    {
     "name": "stdout",
     "output_type": "stream",
     "text": [
      "yes\n"
     ]
    }
   ],
   "source": [
    "\n",
    "persona_type = \"marginal_factual_persona\"\n",
    "if persona_type.startswith(\"marginal\"):\n",
    "    print(\"yes\")"
   ]
  }
 ],
 "metadata": {
  "kernelspec": {
   "display_name": "llm_env",
   "language": "python",
   "name": "python3"
  },
  "language_info": {
   "codemirror_mode": {
    "name": "ipython",
    "version": 3
   },
   "file_extension": ".py",
   "mimetype": "text/x-python",
   "name": "python",
   "nbconvert_exporter": "python",
   "pygments_lexer": "ipython3",
   "version": "3.12.4"
  }
 },
 "nbformat": 4,
 "nbformat_minor": 2
}
