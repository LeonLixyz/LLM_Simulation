{
 "cells": [
  {
   "cell_type": "code",
   "execution_count": 12,
   "metadata": {},
   "outputs": [
    {
     "name": "stderr",
     "output_type": "stream",
     "text": [
      "100%|██████████| 1000/1000 [00:03<00:00, 275.90it/s]"
     ]
    },
    {
     "name": "stdout",
     "output_type": "stream",
     "text": [
      "All persona files processed for Texas.\n"
     ]
    },
    {
     "name": "stderr",
     "output_type": "stream",
     "text": [
      "\n"
     ]
    }
   ],
   "source": [
    "import json\n",
    "import os\n",
    "import glob\n",
    "import us\n",
    "from tqdm import tqdm\n",
    "\n",
    "def process_personas(template_path, input_dir, output_dir, state, num_personas):\n",
    "    def fill_template(template, data):\n",
    "        filled = {}\n",
    "        for key, value in template.items():\n",
    "            if isinstance(value, dict):\n",
    "                filled[key] = fill_template(value, data.get(key, {}))\n",
    "            elif isinstance(value, list):\n",
    "                # For list fields, use data if available, otherwise keep empty list\n",
    "                data_value = data.get(key, [])\n",
    "                if isinstance(data_value, str):\n",
    "                    filled[key] = [item.strip() for item in data_value.split(\",\") if item.strip()]\n",
    "                elif isinstance(data_value, list):\n",
    "                    filled[key] = data_value\n",
    "                else:\n",
    "                    filled[key] = []\n",
    "            else:\n",
    "                # For string fields, use data if available, otherwise keep empty string\n",
    "                filled[key] = str(data.get(key, \"\")).strip() or value\n",
    "        return filled\n",
    "\n",
    "    # Load the template\n",
    "    with open(template_path, \"r\") as template_file:\n",
    "        template = json.load(template_file)\n",
    "\n",
    "    # Create the output directory if it doesn't exist\n",
    "    os.makedirs(output_dir, exist_ok=True)\n",
    "\n",
    "    for i in tqdm(range(num_personas)):\n",
    "        persona_file = os.path.join(input_dir, f\"{state.abbr}_persona_{i}.json\")\n",
    "        if not os.path.exists(persona_file):\n",
    "            print(f\"File not found: {persona_file}\")\n",
    "            continue\n",
    "        \n",
    "        # Load the actual persona data\n",
    "        with open(persona_file, \"r\") as pf:\n",
    "            try:\n",
    "                final_persona = json.load(pf)\n",
    "            except json.JSONDecodeError:\n",
    "                print(f\"Error decoding JSON in file: {persona_file}\")\n",
    "                continue\n",
    "\n",
    "        persona_data = final_persona.get(\"PERSONA\", {})\n",
    "        \n",
    "        if isinstance(persona_data, str):\n",
    "            # If it's a string, parse it into a dictionary\n",
    "            persona_dict = {}\n",
    "            for item in persona_data.split(\"', '\"):\n",
    "                parts = item.split(\": \")\n",
    "                if len(parts) == 2:\n",
    "                    key = parts[0].strip().strip(\"'{}\").upper()\n",
    "                    value = parts[1].strip().strip(\"'\")\n",
    "                    if value:  # Only add non-empty values\n",
    "                        persona_dict[key] = value\n",
    "        elif isinstance(persona_data, dict):\n",
    "            # If it's already a dictionary, use it directly\n",
    "            persona_dict = persona_data\n",
    "        else:\n",
    "            print(f\"PERSONA field is neither a string nor a dictionary in file: {persona_file}\")\n",
    "            continue\n",
    "\n",
    "        # Fill the template with persona data\n",
    "        filled_persona = fill_template(template, persona_dict)\n",
    "\n",
    "        # Save the filled template as a new JSON file\n",
    "        output_file = os.path.join(output_dir, f\"{state.abbr}_persona_{i}_readable.json\")\n",
    "        with open(output_file, \"w\") as f:\n",
    "            json.dump(filled_persona, f, indent=2)\n",
    "\n",
    "        # print(f\"Filled template saved to: {output_file}\")\n",
    "\n",
    "    print(f\"All persona files processed for {state.name}.\")\n",
    "\n",
    "# Example usage:\n",
    "template_path = \"/user/al4263/Simulate/Persona/prompts/persona_generation/persona_template.json\"\n",
    "input_dir = \"/user/al4263/Simulate/Persona/Persona_Meta_Based/TX\"\n",
    "output_dir = \"/user/al4263/Simulate/Persona/persona_meta_human_readable\"\n",
    "\n",
    "num_personas = 1000  # Adjust this number as needed\n",
    "state = us.states.TX\n",
    "\n",
    "process_personas(template_path, input_dir, output_dir, state, num_personas)"
   ]
  }
 ],
 "metadata": {
  "kernelspec": {
   "display_name": "llm_env",
   "language": "python",
   "name": "python3"
  },
  "language_info": {
   "codemirror_mode": {
    "name": "ipython",
    "version": 3
   },
   "file_extension": ".py",
   "mimetype": "text/x-python",
   "name": "python",
   "nbconvert_exporter": "python",
   "pygments_lexer": "ipython3",
   "version": "3.12.4"
  }
 },
 "nbformat": 4,
 "nbformat_minor": 2
}
