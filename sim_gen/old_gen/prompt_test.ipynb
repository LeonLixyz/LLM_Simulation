{
 "cells": [
  {
   "cell_type": "code",
   "execution_count": 6,
   "metadata": {},
   "outputs": [
    {
     "name": "stdout",
     "output_type": "stream",
     "text": [
      "Opinions of others:\n",
      "\n",
      "as a 65- to 74-year-old retired individual with a bachelor's degree and an income range of $100,000 to $149,999, i am heavily reliant on the stability and security of my retirement benefits. given my current reliance on social security and medicare for healthcare, i am inclined to support policies that protect these programs. raising the retirement age or cutting benefits would negatively impact my financial security and access to healthcare.\n",
      "\n",
      "given my background as a single female household holder with a modest income range of $25,000 to $34,999 and relying on private health insurance, protecting and strengthening social security and medicare would be crucial for my financial security and access to quality healthcare, particularly as i approach the 45-54 age bracket.\n",
      "\n",
      "as a 20- to 24-year-old male living in wyoming and working in installation, maintenance, and repair occupations, my income range is relatively modest at $25,000 to $34,999. i have private health insurance but am concerned about the long-term sustainability of social security and medicare. given my age and current employment, i prioritize protecting these programs for my future retirement and potential healthcare needs. raising the retirement age may directly impact my future financial plans and the age at which i can access these benefits.\n",
      "\n",
      "as a 65- to 74-year-old high school graduate living in wyoming with a private health insurance and an income range of $150,000 to $199,999, i rely heavily on social security and medicare for my well-being. given my economic situation and age, i am inclined to support candidates who prioritize protecting these entitlements. i am cautious of any proposals that might cut or alter these benefits, especially considering my reliance on them in my retirement years.\n",
      "\n",
      "as a 35- to 44-year-old production occupation worker with a private health insurance plan and a moderate to high income, i am concerned about the long-term sustainability of social security and medicare. i am likely to support a candidate who proposes practical solutions to control the costs of these entitlements without significantly impacting my benefits. given my age, i am also considering the potential effects of policy changes on my future retirement plans.\n"
     ]
    }
   ],
   "source": [
    "import json\n",
    "import random\n",
    "import us\n",
    "\n",
    "Topic = \"Economic_Policy\"\n",
    "\n",
    "def load_random_reasonings(topic_index, state, num_samples=5):\n",
    "    file_path = f\"/user/al4263/Simulate/Simulations/Election/{Topic}/Persona_Meta/topic_{topic_index}_opinions_{state.abbr}.json\"\n",
    "    with open(file_path, \"r\") as f:\n",
    "        data = json.load(f)\n",
    "    \n",
    "    opinions = data[\"opinions\"]\n",
    "    sampled_opinions = random.sample(opinions, min(num_samples, len(opinions)))\n",
    "    \n",
    "    reasonings = []\n",
    "    reasonings.append(f\"Opinions of others:\")\n",
    "    for opinion in sampled_opinions:\n",
    "        reasoning = opinion[\"reason\"]\n",
    "        reasonings.append(f\"{reasoning}\")\n",
    "    \n",
    "    return \"\\n\\n\".join(reasonings)\n",
    "\n",
    "state = us.states.WY\n",
    "print(load_random_reasonings(0, state, 5))"
   ]
  }
 ],
 "metadata": {
  "kernelspec": {
   "display_name": "llm_env",
   "language": "python",
   "name": "python3"
  },
  "language_info": {
   "codemirror_mode": {
    "name": "ipython",
    "version": 3
   },
   "file_extension": ".py",
   "mimetype": "text/x-python",
   "name": "python",
   "nbconvert_exporter": "python",
   "pygments_lexer": "ipython3",
   "version": "3.12.4"
  }
 },
 "nbformat": 4,
 "nbformat_minor": 2
}
